{
 "cells": [
  {
   "cell_type": "markdown",
   "metadata": {},
   "source": [
    "# ntc_rosetta_parse_config\n",
    "\n",
    "The task ``ntc_rosetta_parse_config`` parses native configuration using\n",
    "[ntc_rosetta](<https://ntc-rosetta.readthedocs.io/).\n",
    "\n",
    "The user can specify the configuration to parse by passing the ``config`` parameter. If not\n",
    "specified, the task will use napalm to retrieve it."
   ]
  },
  {
   "cell_type": "markdown",
   "metadata": {},
   "source": [
    "## Parsing native configuration using openconfig models"
   ]
  },
  {
   "cell_type": "code",
   "execution_count": 1,
   "metadata": {},
   "outputs": [
    {
     "name": "stdout",
     "output_type": "stream",
     "text": [
      "{\n",
      "    \"openconfig-interfaces:interfaces\": {\n",
      "        \"interface\": [\n",
      "            {\n",
      "                \"name\": \"Loopback0\",\n",
      "                \"config\": {\n",
      "                    \"name\": \"Loopback0\",\n",
      "                    \"description\": \"loopback interface\",\n",
      "                    \"enabled\": true\n",
      "                }\n",
      "            },\n",
      "            {\n",
      "                \"name\": \"Loopback1\",\n",
      "                \"config\": {\n",
      "                    \"name\": \"Loopback1\",\n",
      "                    \"description\": \"loopback interface2\",\n",
      "                    \"enabled\": false\n",
      "                }\n",
      "            }\n",
      "        ]\n",
      "    },\n",
      "    \"openconfig-network-instance:network-instances\": {\n",
      "        \"network-instance\": [\n",
      "            {\n",
      "                \"name\": \"default\",\n",
      "                \"config\": {\n",
      "                    \"name\": \"default\"\n",
      "                },\n",
      "                \"vlans\": {\n",
      "                    \"vlan\": [\n",
      "                        {\n",
      "                            \"vlan-id\": 10,\n",
      "                            \"config\": {\n",
      "                                \"vlan-id\": 10,\n",
      "                                \"name\": \"dev\",\n",
      "                                \"status\": \"ACTIVE\"\n",
      "                            }\n",
      "                        },\n",
      "                        {\n",
      "                            \"vlan-id\": 20,\n",
      "                            \"config\": {\n",
      "                                \"vlan-id\": 20,\n",
      "                                \"name\": \"prod\",\n",
      "                                \"status\": \"ACTIVE\"\n",
      "                            }\n",
      "                        },\n",
      "                        {\n",
      "                            \"vlan-id\": 30,\n",
      "                            \"config\": {\n",
      "                                \"vlan-id\": 30,\n",
      "                                \"name\": \"staging\",\n",
      "                                \"status\": \"ACTIVE\"\n",
      "                            }\n",
      "                        }\n",
      "                    ]\n",
      "                }\n",
      "            }\n",
      "        ]\n",
      "    }\n",
      "}\n"
     ]
    }
   ],
   "source": [
    "import json # we only use this to format the output\n",
    "\n",
    "from napalm import get_network_driver\n",
    "\n",
    "eos_driver = get_network_driver(\"eos\")\n",
    "\n",
    "with eos_driver(\"localhost\", \"admin\", \"admin\", rosetta_driver=\"ios\") as device:\n",
    "    config = device.get_yang_config(validate=False)\n",
    "    \n",
    "print(json.dumps(config.raw_value(), indent=4))"
   ]
  },
  {
   "cell_type": "markdown",
   "metadata": {},
   "source": [
    "## Getting vlans"
   ]
  },
  {
   "cell_type": "code",
   "execution_count": 2,
   "metadata": {},
   "outputs": [
    {
     "name": "stdout",
     "output_type": "stream",
     "text": [
      "{\n",
      "    \"openconfig-network-instance:network-instances\": {\n",
      "        \"network-instance\": [\n",
      "            {\n",
      "                \"name\": \"default\",\n",
      "                \"config\": {\n",
      "                    \"name\": \"default\"\n",
      "                },\n",
      "                \"vlans\": {\n",
      "                    \"vlan\": [\n",
      "                        {\n",
      "                            \"vlan-id\": 10,\n",
      "                            \"config\": {\n",
      "                                \"vlan-id\": 10,\n",
      "                                \"name\": \"dev\",\n",
      "                                \"status\": \"ACTIVE\"\n",
      "                            }\n",
      "                        },\n",
      "                        {\n",
      "                            \"vlan-id\": 20,\n",
      "                            \"config\": {\n",
      "                                \"vlan-id\": 20,\n",
      "                                \"name\": \"prod\",\n",
      "                                \"status\": \"ACTIVE\"\n",
      "                            }\n",
      "                        },\n",
      "                        {\n",
      "                            \"vlan-id\": 30,\n",
      "                            \"config\": {\n",
      "                                \"vlan-id\": 30,\n",
      "                                \"name\": \"staging\",\n",
      "                                \"status\": \"ACTIVE\"\n",
      "                            }\n",
      "                        }\n",
      "                    ]\n",
      "                }\n",
      "            }\n",
      "        ]\n",
      "    }\n",
      "}\n"
     ]
    }
   ],
   "source": [
    "with eos_driver(\"localhost\", \"admin\", \"admin\", rosetta_driver=\"ios\") as device:\n",
    "    config = device.get_yang_vlan_config()\n",
    "    \n",
    "print(json.dumps(config.raw_value(), indent=4))"
   ]
  },
  {
   "cell_type": "markdown",
   "metadata": {},
   "source": [
    "## Trsnslating"
   ]
  },
  {
   "cell_type": "code",
   "execution_count": 3,
   "metadata": {},
   "outputs": [
    {
     "name": "stdout",
     "output_type": "stream",
     "text": [
      "interface Loopback0\n",
      "   description \"loopback interface\"\n",
      "   no shutdown\n",
      "   exit\n",
      "!\n",
      "vlan 10\n",
      "   name dev\n",
      "   no shutdown\n",
      "   exit\n",
      "!\n",
      "vlan 20\n",
      "   name staging\n",
      "   no shutdown\n",
      "   exit\n",
      "!\n",
      "\n"
     ]
    }
   ],
   "source": [
    "vlans = {\n",
    "    \"openconfig-interfaces:interfaces\": {\n",
    "        \"interface\": [\n",
    "            {\n",
    "                \"name\": \"Loopback0\",\n",
    "                \"config\": {\n",
    "                    \"name\": \"Loopback0\",\n",
    "                    \"description\": \"\\\"loopback interface\\\"\",\n",
    "                    \"enabled\": True\n",
    "                }\n",
    "            },\n",
    "        ]\n",
    "    },\n",
    "    \"openconfig-network-instance:network-instances\": {\n",
    "        \"network-instance\": [\n",
    "            {\n",
    "                \"name\": \"default\",\n",
    "                \"config\": {\n",
    "                    \"name\": \"default\"\n",
    "                },\n",
    "                \"vlans\": {\n",
    "                    \"vlan\": [\n",
    "                        {\n",
    "                            \"vlan-id\": 10,\n",
    "                            \"config\": {\n",
    "                                \"vlan-id\": 10,\n",
    "                                \"name\": \"dev\",\n",
    "                                \"status\": \"ACTIVE\"\n",
    "                            }\n",
    "                        },\n",
    "                        {\n",
    "                            \"vlan-id\": 20,\n",
    "                            \"config\": {\n",
    "                                \"vlan-id\": 20,\n",
    "                                \"name\": \"staging\",\n",
    "                                \"status\": \"ACTIVE\"\n",
    "                            }\n",
    "                        }\n",
    "                    ]\n",
    "                }\n",
    "            }\n",
    "        ]\n",
    "    }\n",
    "}\n",
    "with eos_driver(\"localhost\", \"admin\", \"admin\", rosetta_driver=\"ios\") as device:\n",
    "    config = device.translate_yang_config(vlans)\n",
    "print(config)"
   ]
  },
  {
   "cell_type": "markdown",
   "metadata": {},
   "source": [
    "## Merge"
   ]
  },
  {
   "cell_type": "code",
   "execution_count": 4,
   "metadata": {},
   "outputs": [
    {
     "name": "stdout",
     "output_type": "stream",
     "text": [
      "default interface Loopback1\n",
      "interface Loopback0\n",
      "   description \"loopback interface\"\n",
      "   exit\n",
      "!\n",
      "no vlan 30\n",
      "vlan 20\n",
      "   name staging\n",
      "   exit\n",
      "!\n",
      "\n"
     ]
    }
   ],
   "source": [
    "config = {\n",
    "    \"openconfig-interfaces:interfaces\": {\n",
    "        \"interface\": [\n",
    "            {\n",
    "                \"name\": \"Loopback0\",\n",
    "                \"config\": {\n",
    "                    \"name\": \"Loopback0\",\n",
    "                    \"description\": \"\\\"loopback interface\\\"\",\n",
    "                    \"enabled\": True\n",
    "                }\n",
    "            },\n",
    "        ]\n",
    "    },\n",
    "    \"openconfig-network-instance:network-instances\": {\n",
    "        \"network-instance\": [\n",
    "            {\n",
    "                \"name\": \"default\",\n",
    "                \"config\": {\n",
    "                    \"name\": \"default\"\n",
    "                },\n",
    "                \"vlans\": {\n",
    "                    \"vlan\": [\n",
    "                        {\n",
    "                            \"vlan-id\": 10,\n",
    "                            \"config\": {\n",
    "                                \"vlan-id\": 10,\n",
    "                                \"name\": \"dev\",\n",
    "                                \"status\": \"ACTIVE\"\n",
    "                            }\n",
    "                        },\n",
    "                        {\n",
    "                            \"vlan-id\": 20,\n",
    "                            \"config\": {\n",
    "                                \"vlan-id\": 20,\n",
    "                                \"name\": \"staging\",\n",
    "                                \"status\": \"ACTIVE\"\n",
    "                            }\n",
    "                        }\n",
    "                    ]\n",
    "                }\n",
    "            }\n",
    "        ]\n",
    "    }\n",
    "}\n",
    "with eos_driver(\"localhost\", \"admin\", \"admin\", rosetta_driver=\"ios\") as device:\n",
    "    config = device.merge_yang_config(config)\n",
    "print(config)"
   ]
  },
  {
   "cell_type": "markdown",
   "metadata": {},
   "source": [
    "## Merge vlans"
   ]
  },
  {
   "cell_type": "code",
   "execution_count": 5,
   "metadata": {},
   "outputs": [
    {
     "name": "stdout",
     "output_type": "stream",
     "text": [
      "no vlan 30\n",
      "vlan 20\n",
      "   name staging\n",
      "   exit\n",
      "!\n",
      "\n"
     ]
    }
   ],
   "source": [
    "vlans = {\n",
    "    \"openconfig-network-instance:network-instances\": {\n",
    "        \"network-instance\": [\n",
    "            {\n",
    "                \"name\": \"default\",\n",
    "                \"config\": {\n",
    "                    \"name\": \"default\"\n",
    "                },\n",
    "                \"vlans\": {\n",
    "                    \"vlan\": [\n",
    "                        {\n",
    "                            \"vlan-id\": 10,\n",
    "                            \"config\": {\n",
    "                                \"vlan-id\": 10,\n",
    "                                \"name\": \"dev\",\n",
    "                                \"status\": \"ACTIVE\"\n",
    "                            }\n",
    "                        },\n",
    "                        {\n",
    "                            \"vlan-id\": 20,\n",
    "                            \"config\": {\n",
    "                                \"vlan-id\": 20,\n",
    "                                \"name\": \"staging\",\n",
    "                                \"status\": \"ACTIVE\"\n",
    "                            }\n",
    "                        }\n",
    "                    ]\n",
    "                }\n",
    "            }\n",
    "        ]\n",
    "    }\n",
    "}\n",
    "with eos_driver(\"localhost\", \"admin\", \"admin\", rosetta_driver=\"ios\") as device:\n",
    "    config = device.merge_yang_vlan_config(vlans)\n",
    "print(config)"
   ]
  }
 ],
 "metadata": {
  "kernelspec": {
   "display_name": "Python 3",
   "language": "python",
   "name": "python3"
  },
  "language_info": {
   "codemirror_mode": {
    "name": "ipython",
    "version": 3
   },
   "file_extension": ".py",
   "mimetype": "text/x-python",
   "name": "python",
   "nbconvert_exporter": "python",
   "pygments_lexer": "ipython3",
   "version": "3.6.8"
  }
 },
 "nbformat": 4,
 "nbformat_minor": 2
}
